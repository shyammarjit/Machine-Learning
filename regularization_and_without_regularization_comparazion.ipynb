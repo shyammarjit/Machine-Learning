{
  "nbformat": 4,
  "nbformat_minor": 0,
  "metadata": {
    "colab": {
      "name": "regularization  and without regularization comparazion.ipynb",
      "provenance": [],
      "authorship_tag": "ABX9TyNM43zZkTFENIf17eIGBZ8o",
      "include_colab_link": true
    },
    "kernelspec": {
      "name": "python3",
      "display_name": "Python 3"
    }
  },
  "cells": [
    {
      "cell_type": "markdown",
      "metadata": {
        "id": "view-in-github",
        "colab_type": "text"
      },
      "source": [
        "<a href=\"https://colab.research.google.com/github/shyammarjit/winter-internship-at-iiit-Alahabad/blob/main/regularization_and_without_regularization_comparazion.ipynb\" target=\"_parent\"><img src=\"https://colab.research.google.com/assets/colab-badge.svg\" alt=\"Open In Colab\"/></a>"
      ]
    },
    {
      "cell_type": "code",
      "metadata": {
        "id": "l9X_M0Xsy21l"
      },
      "source": [
        "import random\r\n",
        "import matplotlib.pyplot as plt\r\n",
        "import math\r\n",
        "import numpy as np\r\n",
        "import functools\r\n",
        "from matplotlib.animation import FuncAnimation\r\n",
        "\r\n",
        "\"\"\"\r\n",
        "Dummy Data for Linear Regression\r\n",
        "\"\"\"\r\n",
        "data = [(1, 1), (2, 2), (5, 5.5), (6, 8), (9, 10)]    \r\n",
        "\r\n",
        "\"\"\"\r\n",
        "Plot the line using theta_values\r\n",
        "\"\"\"\r\n",
        "def plot_line(formula, x_range, order_of_regression, label=None):\r\n",
        "    x = np.array(x_range).tolist()  \r\n",
        "    y = [formula(update_features(x_i, order_of_regression, 9)) for x_i in x]\r\n",
        "    l, = plt.plot(x, y, label=label)\r\n",
        "    return l"
      ],
      "execution_count": null,
      "outputs": []
    },
    {
      "cell_type": "code",
      "metadata": {
        "colab": {
          "base_uri": "https://localhost:8080/",
          "height": 136
        },
        "id": "Z_p8AMK7yo5u",
        "outputId": "654b705a-1984-4721-c1e0-78b29ee82092"
      },
      "source": [
        "\"\"\"\r\n",
        "Hypothesis Function\r\n",
        "\"\"\"\r\n",
        "def h(x, theta):\r\n",
        "    return np.matmul(theta.T, x)[0][0]\r\n",
        "\r\n",
        "\"\"\"\r\n",
        "Partial Derivative w.r.t. theta_i\r\n",
        "\"\"\"\r\n",
        "def j_prime_theta(data, theta, order_of_regression, i):\r\n",
        "    result = 0\r\n",
        "    m = len(data)\r\n",
        "    for x, y in data :\r\n",
        "        x = update_features(x, order_of_regression)\r\n",
        "        result += (h(x, theta) - y) * x[i]\r\n",
        "    \r\n",
        "    return (1/m) * result\r\n",
        "\r\n",
        "\"\"\"\r\n",
        "Update features by order of the regression\r\n",
        "\"\"\"\r\n",
        "\r\n",
        "def update_features(x, order_of_regression, m = 9):\r\n",
        "    features = [1]\r\n",
        "    for i in range(order_of_regression):\r\n",
        "        features.append(math.pow(x, i+1)/ math.pow(m, i+1))\r\n",
        "    return np.atleast_2d(features).T\r\n",
        "\r\n",
        "\"\"\"\r\n",
        "Cost Function\r\n",
        "\"\"\"\r\n",
        "def j(data, theta, order_of_regression):\r\n",
        "    cost = 0\r\n",
        "    m = len(data)\r\n",
        "    for x, y in data:\r\n",
        "        x = update_features(x, order_of_regression)\r\n",
        "        cost += math.pow(h(x, theta) - y, 2)\r\n",
        "    return (1/(2*m)) * cost\r\n",
        "\r\n",
        "\"\"\"\r\n",
        "Simultaneous Update\r\n",
        "\"\"\"\r\n",
        "def update_theta(data, alpha, theta, order_of_regression):\r\n",
        "    temp = []\r\n",
        "    for i in range(order_of_regression+1):\r\n",
        "        temp.append(theta[i] - alpha * j_prime_theta(data, theta, order_of_regression, i))\r\n",
        "    theta = np.array(temp)\r\n",
        "    return theta\r\n",
        "    \r\n",
        "\"\"\"\r\n",
        "Gradient Descent For Multivariate Regression\r\n",
        "def gradient_descent(data, alpha, tolerance, theta=[], order_of_regression = 2):\r\n",
        "    if len(theta) == 0:\r\n",
        "        theta = np.atleast_2d(np.random.random(order_of_regression+1) * 100).T\r\n",
        "    prev_j = 10000\r\n",
        "    curr_j = j(data, theta, order_of_regression)\r\n",
        "    print(curr_j)\r\n",
        "    cost_history = []\r\n",
        "    theta_history = [] \r\n",
        "    counter = 0\r\n",
        "    while(abs(curr_j - prev_j) > tolerance):\r\n",
        "        try:\r\n",
        "            cost_history.append(curr_j)\r\n",
        "            theta_history.append(theta)\r\n",
        "            theta = update_theta(data, alpha, theta, order_of_regression)\r\n",
        "            prev_j = curr_j\r\n",
        "            curr_j = j(data, theta, order_of_regression)\r\n",
        "            if counter % 100 == 0:\r\n",
        "                print(curr_j)\r\n",
        "            counter += 1\r\n",
        "        except:\r\n",
        "            break\r\n",
        "    print(\"Stopped with Error at %.5f\" % prev_j)\r\n",
        "    return theta, cost_history, theta_history\r\n",
        "\r\n",
        "theta, cost_history, theta_history = gradient_descent(data, 0.01, 0.0001, order_of_regression=150)\r\n",
        "\"\"\""
      ],
      "execution_count": null,
      "outputs": [
        {
          "output_type": "execute_result",
          "data": {
            "application/vnd.google.colaboratory.intrinsic+json": {
              "type": "string"
            },
            "text/plain": [
              "'\\nGradient Descent For Multivariate Regression\\ndef gradient_descent(data, alpha, tolerance, theta=[], order_of_regression = 2):\\n    if len(theta) == 0:\\n        theta = np.atleast_2d(np.random.random(order_of_regression+1) * 100).T\\n    prev_j = 10000\\n    curr_j = j(data, theta, order_of_regression)\\n    print(curr_j)\\n    cost_history = []\\n    theta_history = [] \\n    counter = 0\\n    while(abs(curr_j - prev_j) > tolerance):\\n        try:\\n            cost_history.append(curr_j)\\n            theta_history.append(theta)\\n            theta = update_theta(data, alpha, theta, order_of_regression)\\n            prev_j = curr_j\\n            curr_j = j(data, theta, order_of_regression)\\n            if counter % 100 == 0:\\n                print(curr_j)\\n            counter += 1\\n        except:\\n            break\\n    print(\"Stopped with Error at %.5f\" % prev_j)\\n    return theta, cost_history, theta_history\\n\\ntheta, cost_history, theta_history = gradient_descent(data, 0.01, 0.0001, order_of_regression=150)\\n'"
            ]
          },
          "metadata": {
            "tags": []
          },
          "execution_count": 24
        }
      ]
    },
    {
      "cell_type": "code",
      "metadata": {
        "colab": {
          "base_uri": "https://localhost:8080/"
        },
        "id": "Q0WQg6s55HLY",
        "outputId": "834b61e8-02a7-43a8-a273-2afe5c883f27"
      },
      "source": [
        "\"\"\"\r\n",
        "Regularized Version\r\n",
        "\"\"\"\r\n",
        "def reg_j_prime_theta(data, theta, l, order_of_regression, i):\r\n",
        "    result = 0\r\n",
        "    m = len(data)\r\n",
        "    for x, y in data :\r\n",
        "        x = update_features(x, order_of_regression)\r\n",
        "        result += (h(x, theta) - y) * x[i]\r\n",
        "    result += l*theta[i]\r\n",
        "    return (1/m) * result\r\n",
        "\r\n",
        "def reg_j(data, theta, l, order_of_regression):\r\n",
        "    cost = 0\r\n",
        "    m = len(data)\r\n",
        "    for x, y in data:\r\n",
        "        x = update_features(x, order_of_regression)\r\n",
        "        cost += math.pow(h(x, theta) - y, 2)\r\n",
        "    reg = 0\r\n",
        "    for j in theta:\r\n",
        "        reg += math.pow(j, 2)\r\n",
        "    reg = reg * l\r\n",
        "    return (1/(2*m)) * (cost + reg)\r\n",
        "\r\n",
        "def reg_update_theta(data, alpha, theta, l, order_of_regression):\r\n",
        "    temp = []\r\n",
        "    for i in range(order_of_regression+1):\r\n",
        "        temp.append(theta[i] - alpha * reg_j_prime_theta(data, theta, l, order_of_regression, i))\r\n",
        "    theta = np.array(temp)\r\n",
        "    return theta\r\n",
        "\r\n",
        "def reg_gradient_descent(data, alpha, l, tolerance, theta=[], order_of_regression = 2):\r\n",
        "    if len(theta) == 0:\r\n",
        "        theta = np.atleast_2d(np.random.random(order_of_regression+1) * 100).T\r\n",
        "    prev_j = 10000\r\n",
        "    curr_j = reg_j(data, theta, l, order_of_regression)\r\n",
        "    print(curr_j)\r\n",
        "    cost_history = []\r\n",
        "    theta_history = [] \r\n",
        "    counter = 0\r\n",
        "    while(abs(curr_j - prev_j) > tolerance):\r\n",
        "        try:\r\n",
        "            cost_history.append(curr_j)\r\n",
        "            theta_history.append(theta)\r\n",
        "            theta = reg_update_theta(data, alpha, theta, l, order_of_regression)\r\n",
        "            prev_j = curr_j\r\n",
        "            curr_j = reg_j(data, theta, l, order_of_regression)\r\n",
        "            if counter % 100 == 0:\r\n",
        "                print(curr_j)\r\n",
        "            counter += 1\r\n",
        "        except:\r\n",
        "            break\r\n",
        "    print(\"Stopped with Error at %.5f\" % prev_j)\r\n",
        "    return theta, cost_history, theta_history\r\n",
        "reg_theta, reg_cost_history, reg_theta_history = reg_gradient_descent(data, 0.01, 1, 0.0001, order_of_regression=150)\r\n",
        "print(\"*************\")\r\n",
        "print(reg_theta)"
      ],
      "execution_count": null,
      "outputs": [
        {
          "output_type": "stream",
          "text": [
            "5060465.9944289895\n",
            "2455813.9044681364\n",
            "7905.034230643517\n",
            "5288.177319873552\n",
            "3538.830287312372\n",
            "2368.963237227495\n",
            "1586.4134696426845\n",
            "1062.8329649033778\n",
            "712.454005996554\n",
            "477.9421656008641\n",
            "320.9585415818075\n",
            "215.85954478815484\n",
            "145.4890972605444\n",
            "98.36713407124414\n",
            "66.8103775436051\n",
            "45.67584900798573\n",
            "31.520522132956316\n",
            "22.039158162839414\n",
            "15.688156591344516\n",
            "11.433824190524764\n",
            "8.583881811878104\n",
            "6.674669749607161\n",
            "5.395630342489859\n",
            "4.53874283121364\n",
            "3.964662719710697\n",
            "3.5800454040685965\n",
            "3.3223588242485427\n",
            "3.149711228519235\n",
            "3.0340376224883365\n",
            "2.9565357202677016\n",
            "2.904608601589631\n",
            "2.8698166037751416\n",
            "2.846505257415218\n",
            "2.830886092155777\n",
            "Stopped with Error at 2.82411\n",
            "*************\n",
            "[[ 2.11397579e+00]\n",
            " [ 2.35533435e+00]\n",
            " [ 1.69976820e+00]\n",
            " [ 1.10017817e+00]\n",
            " [ 6.94526219e-01]\n",
            " [ 5.00875041e-01]\n",
            " [ 3.08908394e-01]\n",
            " [ 1.73158328e-01]\n",
            " [ 1.21633432e-01]\n",
            " [ 6.01854425e-02]\n",
            " [ 5.46737319e-02]\n",
            " [ 1.04939828e-01]\n",
            " [ 1.31489772e-02]\n",
            " [ 8.40897990e-02]\n",
            " [ 1.60177490e-02]\n",
            " [-1.04262189e-02]\n",
            " [-4.48801710e-02]\n",
            " [ 4.89194825e-02]\n",
            " [-4.31226871e-02]\n",
            " [-3.51690166e-02]\n",
            " [ 2.87065421e-02]\n",
            " [-2.07933327e-02]\n",
            " [ 1.43446951e-02]\n",
            " [ 9.13598315e-03]\n",
            " [-3.03597605e-02]\n",
            " [-4.03476164e-02]\n",
            " [-7.20072861e-04]\n",
            " [-5.29599370e-02]\n",
            " [-2.41403934e-02]\n",
            " [ 5.86852152e-02]\n",
            " [-1.16832480e-02]\n",
            " [ 4.53022115e-02]\n",
            " [ 1.59956687e-02]\n",
            " [-4.39573152e-02]\n",
            " [ 8.06666266e-02]\n",
            " [-4.14204308e-02]\n",
            " [ 7.33996698e-02]\n",
            " [ 8.99664659e-03]\n",
            " [ 1.10686669e-02]\n",
            " [-4.74881456e-02]\n",
            " [-1.59176665e-02]\n",
            " [ 5.68755682e-02]\n",
            " [-6.37729287e-03]\n",
            " [-4.77688745e-02]\n",
            " [ 1.48199832e-02]\n",
            " [-5.94204231e-02]\n",
            " [-3.16506135e-02]\n",
            " [ 6.50006980e-02]\n",
            " [-1.37207730e-03]\n",
            " [-5.61888308e-02]\n",
            " [ 1.62204816e-02]\n",
            " [ 3.63609032e-02]\n",
            " [-4.88168078e-02]\n",
            " [-4.72343476e-02]\n",
            " [ 2.78715614e-02]\n",
            " [-5.58323974e-02]\n",
            " [ 3.18674338e-02]\n",
            " [ 4.43273113e-02]\n",
            " [ 6.38592057e-02]\n",
            " [-9.33855533e-03]\n",
            " [ 4.58067520e-02]\n",
            " [-1.61353733e-02]\n",
            " [ 6.36082538e-02]\n",
            " [ 2.12851743e-02]\n",
            " [ 3.93201642e-02]\n",
            " [-5.61825165e-02]\n",
            " [-2.69242708e-02]\n",
            " [-9.53584493e-03]\n",
            " [ 1.53561160e-02]\n",
            " [-4.86690063e-02]\n",
            " [ 2.06863490e-02]\n",
            " [-5.91349135e-02]\n",
            " [-3.43146219e-02]\n",
            " [-7.90549199e-03]\n",
            " [ 5.75611857e-03]\n",
            " [-3.24595993e-03]\n",
            " [-2.98235115e-02]\n",
            " [ 7.09075963e-02]\n",
            " [ 1.48226966e-02]\n",
            " [ 5.82540651e-03]\n",
            " [ 1.60039021e-02]\n",
            " [ 1.04343271e-02]\n",
            " [-1.61194444e-02]\n",
            " [ 7.92878788e-02]\n",
            " [-5.57373462e-03]\n",
            " [ 7.05034290e-02]\n",
            " [ 4.78101031e-02]\n",
            " [-4.83289747e-02]\n",
            " [ 3.83866152e-03]\n",
            " [ 2.79742298e-02]\n",
            " [ 2.87622585e-02]\n",
            " [-2.23334001e-02]\n",
            " [ 2.37487400e-02]\n",
            " [-5.00672567e-03]\n",
            " [ 2.10791412e-02]\n",
            " [-2.78592268e-02]\n",
            " [ 1.35369233e-02]\n",
            " [ 7.27060458e-02]\n",
            " [-4.02614563e-02]\n",
            " [ 2.47493344e-02]\n",
            " [ 3.07494850e-02]\n",
            " [ 5.94314855e-02]\n",
            " [ 7.77198259e-03]\n",
            " [ 1.36426026e-02]\n",
            " [ 7.47402185e-02]\n",
            " [-4.68893320e-02]\n",
            " [-3.33961174e-02]\n",
            " [ 5.11149901e-02]\n",
            " [ 7.43421197e-02]\n",
            " [ 7.01743912e-02]\n",
            " [ 4.94556386e-02]\n",
            " [-3.82146264e-02]\n",
            " [-2.29059181e-02]\n",
            " [ 4.72709672e-02]\n",
            " [-3.48124711e-02]\n",
            " [-1.13504758e-02]\n",
            " [-4.30618041e-03]\n",
            " [ 4.90787111e-02]\n",
            " [-1.73801510e-02]\n",
            " [ 6.65835167e-02]\n",
            " [ 4.14417880e-02]\n",
            " [-5.90101764e-02]\n",
            " [-2.12313175e-02]\n",
            " [-4.14894795e-02]\n",
            " [ 5.36709615e-02]\n",
            " [ 5.05157773e-02]\n",
            " [ 6.24434039e-02]\n",
            " [-6.21666377e-02]\n",
            " [-3.58215819e-02]\n",
            " [-1.74330038e-02]\n",
            " [-2.98202307e-02]\n",
            " [ 4.84177614e-02]\n",
            " [ 3.74796967e-02]\n",
            " [ 8.25907449e-02]\n",
            " [ 6.30589735e-02]\n",
            " [ 1.63825122e-02]\n",
            " [-5.62014533e-02]\n",
            " [-1.12821593e-02]\n",
            " [ 7.50525868e-02]\n",
            " [ 2.57819257e-02]\n",
            " [-4.60338903e-02]\n",
            " [-4.90295829e-02]\n",
            " [ 8.38704813e-03]\n",
            " [-3.21851983e-02]\n",
            " [ 6.40940740e-02]\n",
            " [-1.16708598e-02]\n",
            " [ 1.93702439e-02]\n",
            " [-4.45422840e-02]\n",
            " [-2.25407746e-02]\n",
            " [-5.04073755e-02]\n",
            " [-6.06542899e-02]]\n"
          ],
          "name": "stdout"
        }
      ]
    },
    {
      "cell_type": "code",
      "metadata": {
        "colab": {
          "base_uri": "https://localhost:8080/",
          "height": 281
        },
        "id": "tYOrFl6n5T6P",
        "outputId": "b2a6bf42-b70f-4bb0-95a5-73699b02c108"
      },
      "source": [
        "f = functools.partial(h, theta=reg_theta_history[-1])\r\n",
        "plt.scatter([i[0] for i in data], [i[1] for i in data])\r\n",
        "reg = plot_line(f, (np.array(range(10,91))/10).tolist(), order_of_regression=150, label='regularized')\r\n",
        "f = functools.partial(h, theta=theta_history[-1])\r\n",
        "unreg = plot_line(f, (np.array(range(10,91))/10).tolist(), order_of_regression=150, label='not regularized')\r\n",
        "plt.legend([reg, unreg], ['Regularized', 'Not Regularized'])\r\n",
        "plt.title('Effect of Regularization')\r\n",
        "plt.show()"
      ],
      "execution_count": null,
      "outputs": [
        {
          "output_type": "display_data",
          "data": {
            "image/png": "[encoded data removed]",
            "text/plain": [
              "<Figure size 432x288 with 1 Axes>"
            ]
          },
          "metadata": {
            "tags": [],
            "needs_background": "light"
          }
        }
      ]
    },
    {
      "cell_type": "code",
      "metadata": {
        "colab": {
          "base_uri": "https://localhost:8080/"
        },
        "id": "dieFsjc55iOZ",
        "outputId": "93729b18-3b22-4689-9ce8-0b2d6a85f891"
      },
      "source": [
        "update_features(9,2)"
      ],
      "execution_count": null,
      "outputs": [
        {
          "output_type": "execute_result",
          "data": {
            "text/plain": [
              "array([[1.],\n",
              "       [1.],\n",
              "       [1.]])"
            ]
          },
          "metadata": {
            "tags": []
          },
          "execution_count": 27
        }
      ]
    },
    {
      "cell_type": "code",
      "metadata": {
        "colab": {
          "base_uri": "https://localhost:8080/",
          "height": 481
        },
        "id": "yLg3L1W55mGa",
        "outputId": "0373ab20-109d-49e3-ba94-718f413a35de"
      },
      "source": [
        "\r\n",
        "fig, ax = plt.subplots()\r\n",
        "ax.set_xlim(0, 1000)\r\n",
        "ax.set_ylim(0, 10000)\r\n",
        "b,=plt.plot(range(len(cost_history_01)), cost_history_01, label='alpha=0.01')\r\n",
        "c,=plt.plot(range(len(cost_history_001)), cost_history_001, label='alpha=0.001')\r\n",
        "d,=plt.plot(range(len(cost_history_0001)), cost_history_0001, label='alpha=0.0001')\r\n",
        "e,=plt.plot(range(len(cost_history_00001)), cost_history_00001 ,label='alpha=0.00001')\r\n",
        "plt.legend(handles=[b, c, d, e])\r\n",
        "plt.title(\"Effect of learning rate\")\r\n",
        "ax.set_xlabel('epochs')\r\n",
        "ax.set_ylabel('cost')\r\n",
        "plt.show()"
      ],
      "execution_count": null,
      "outputs": [
        {
          "output_type": "error",
          "ename": "NameError",
          "evalue": "ignored",
          "traceback": [
            "\u001b[0;31m---------------------------------------------------------------------------\u001b[0m",
            "\u001b[0;31mNameError\u001b[0m                                 Traceback (most recent call last)",
            "\u001b[0;32m<ipython-input-28-09a78995fb73>\u001b[0m in \u001b[0;36m<module>\u001b[0;34m()\u001b[0m\n\u001b[1;32m      3\u001b[0m \u001b[0max\u001b[0m\u001b[0;34m.\u001b[0m\u001b[0mset_xlim\u001b[0m\u001b[0;34m(\u001b[0m\u001b[0;36m0\u001b[0m\u001b[0;34m,\u001b[0m \u001b[0;36m1000\u001b[0m\u001b[0;34m)\u001b[0m\u001b[0;34m\u001b[0m\u001b[0;34m\u001b[0m\u001b[0m\n\u001b[1;32m      4\u001b[0m \u001b[0max\u001b[0m\u001b[0;34m.\u001b[0m\u001b[0mset_ylim\u001b[0m\u001b[0;34m(\u001b[0m\u001b[0;36m0\u001b[0m\u001b[0;34m,\u001b[0m \u001b[0;36m10000\u001b[0m\u001b[0;34m)\u001b[0m\u001b[0;34m\u001b[0m\u001b[0;34m\u001b[0m\u001b[0m\n\u001b[0;32m----> 5\u001b[0;31m \u001b[0mb\u001b[0m\u001b[0;34m,\u001b[0m\u001b[0;34m=\u001b[0m\u001b[0mplt\u001b[0m\u001b[0;34m.\u001b[0m\u001b[0mplot\u001b[0m\u001b[0;34m(\u001b[0m\u001b[0mrange\u001b[0m\u001b[0;34m(\u001b[0m\u001b[0mlen\u001b[0m\u001b[0;34m(\u001b[0m\u001b[0mcost_history_01\u001b[0m\u001b[0;34m)\u001b[0m\u001b[0;34m)\u001b[0m\u001b[0;34m,\u001b[0m \u001b[0mcost_history_01\u001b[0m\u001b[0;34m,\u001b[0m \u001b[0mlabel\u001b[0m\u001b[0;34m=\u001b[0m\u001b[0;34m'alpha=0.01'\u001b[0m\u001b[0;34m)\u001b[0m\u001b[0;34m\u001b[0m\u001b[0;34m\u001b[0m\u001b[0m\n\u001b[0m\u001b[1;32m      6\u001b[0m \u001b[0mc\u001b[0m\u001b[0;34m,\u001b[0m\u001b[0;34m=\u001b[0m\u001b[0mplt\u001b[0m\u001b[0;34m.\u001b[0m\u001b[0mplot\u001b[0m\u001b[0;34m(\u001b[0m\u001b[0mrange\u001b[0m\u001b[0;34m(\u001b[0m\u001b[0mlen\u001b[0m\u001b[0;34m(\u001b[0m\u001b[0mcost_history_001\u001b[0m\u001b[0;34m)\u001b[0m\u001b[0;34m)\u001b[0m\u001b[0;34m,\u001b[0m \u001b[0mcost_history_001\u001b[0m\u001b[0;34m,\u001b[0m \u001b[0mlabel\u001b[0m\u001b[0;34m=\u001b[0m\u001b[0;34m'alpha=0.001'\u001b[0m\u001b[0;34m)\u001b[0m\u001b[0;34m\u001b[0m\u001b[0;34m\u001b[0m\u001b[0m\n\u001b[1;32m      7\u001b[0m \u001b[0md\u001b[0m\u001b[0;34m,\u001b[0m\u001b[0;34m=\u001b[0m\u001b[0mplt\u001b[0m\u001b[0;34m.\u001b[0m\u001b[0mplot\u001b[0m\u001b[0;34m(\u001b[0m\u001b[0mrange\u001b[0m\u001b[0;34m(\u001b[0m\u001b[0mlen\u001b[0m\u001b[0;34m(\u001b[0m\u001b[0mcost_history_0001\u001b[0m\u001b[0;34m)\u001b[0m\u001b[0;34m)\u001b[0m\u001b[0;34m,\u001b[0m \u001b[0mcost_history_0001\u001b[0m\u001b[0;34m,\u001b[0m \u001b[0mlabel\u001b[0m\u001b[0;34m=\u001b[0m\u001b[0;34m'alpha=0.0001'\u001b[0m\u001b[0;34m)\u001b[0m\u001b[0;34m\u001b[0m\u001b[0;34m\u001b[0m\u001b[0m\n",
            "\u001b[0;31mNameError\u001b[0m: name 'cost_history_01' is not defined"
          ]
        },
        {
          "output_type": "display_data",
          "data": {
            "image/png": "[encoded data removed]",
            "text/plain": [
              "<Figure size 432x288 with 1 Axes>"
            ]
          },
          "metadata": {
            "tags": [],
            "needs_background": "light"
          }
        }
      ]
    },
    {
      "cell_type": "code",
      "metadata": {
        "id": "3ADsxCaH5mbi"
      },
      "source": [
        "fig, ax = plt.subplots()\r\n",
        "ax.set_xlim(0, 5000)\r\n",
        "ax.set_ylim(0, 6000)\r\n",
        "plt.plot(range(len(cost_history)), cost_history)\r\n",
        "# plt.title(\"Optimum learning rate\")\r\n",
        "ax.set_xlabel('epochs')\r\n",
        "ax.set_ylabel('cost')\r\n",
        "plt.show()"
      ],
      "execution_count": null,
      "outputs": []
    },
    {
      "cell_type": "code",
      "metadata": {
        "id": "R3-zz79j5rWO"
      },
      "source": [
        "from IPython.core.display import display, HTML\r\n",
        "fig, ax = plt.subplots()\r\n",
        "x = []\r\n",
        "y = []\r\n",
        "plt.scatter([i[0] for i in data], [i[1] for i in data])\r\n",
        "ln, = plt.plot(x, y, 'r--', animated=True, label='h(x)')\r\n",
        "plt.title('Parameter Optimization with Feature scaling')\r\n",
        "\r\n",
        "def init():\r\n",
        "    ax.set_xlim(0, 10)\r\n",
        "    ax.set_ylim(0, 50)\r\n",
        "    ax.set_xlabel('x')\r\n",
        "    ax.set_ylabel('y')\r\n",
        "    plt.legend(handles=[ln])\r\n",
        "    return ln,\r\n",
        "\r\n",
        "def update(frame):\r\n",
        "    theta = frame\r\n",
        "    x = (np.array(range(10, 91))/10).tolist()\r\n",
        "    f = functools.partial(h, theta=theta)\r\n",
        "    y = [f(update_features(x_i, 100)) for x_i in x]\r\n",
        "    ln.set_data(x, y)\r\n",
        "    return ln,\r\n",
        "\r\n",
        "def data_gen():\r\n",
        "    for i in theta_history[::100]:\r\n",
        "        yield i\r\n",
        "\r\n",
        "ani = FuncAnimation(fig, update, frames=data_gen(),\r\n",
        "                    init_func=init, blit=False, interval=100)\r\n",
        "display(HTML(ani.to_html5_video()))"
      ],
      "execution_count": null,
      "outputs": []
    },
    {
      "cell_type": "code",
      "metadata": {
        "id": "7takEtzG5sWO"
      },
      "source": [
        "len(theta_history)"
      ],
      "execution_count": null,
      "outputs": []
    },
    {
      "cell_type": "code",
      "metadata": {
        "id": "joueS5uI51tJ"
      },
      "source": [
        "from IPython.core.display import display, HTML\r\n",
        "fig, ax = plt.subplots()\r\n",
        "x = []\r\n",
        "y = []\r\n",
        "plt.scatter([i[0] for i in data], [i[1] for i in data])\r\n",
        "ln, = plt.plot(x, y, 'r--', animated=True)\r\n",
        "plt.title('Hypothesis Parameter Optimization for Linear Regression')\r\n",
        "\r\n",
        "def init():\r\n",
        "    ax.set_xlim(0, 10)\r\n",
        "    ax.set_ylim(0, 10)\r\n",
        "    return ln,\r\n",
        "\r\n",
        "def update(frame):\r\n",
        "    theta_0 = frame[0]\r\n",
        "    theta_1 = frame[1]\r\n",
        "    x = np.array(range(10))\r\n",
        "    f = functools.partial(h, theta_0=theta_0, theta_1=theta_1)\r\n",
        "    y = f(x)\r\n",
        "    ln.set_data(x, y)\r\n",
        "    return ln,\r\n",
        "\r\n",
        "def data_gen():\r\n",
        "    for i, j in zip(theta_0_history[::300], theta_1_history[::300]):\r\n",
        "        yield i, j\r\n",
        "\r\n",
        "ani = FuncAnimation(fig, update, frames=data_gen(),\r\n",
        "                    init_func=init, blit=False, interval=100)\r\n",
        "display(HTML(ani.to_html5_video()))"
      ],
      "execution_count": null,
      "outputs": []
    },
    {
      "cell_type": "code",
      "metadata": {
        "id": "reoF7DBw52pf"
      },
      "source": [
        "plt.show()"
      ],
      "execution_count": null,
      "outputs": []
    }
  ]
}